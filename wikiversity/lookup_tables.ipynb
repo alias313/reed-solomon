{
 "cells": [
  {
   "cell_type": "code",
   "execution_count": 2,
   "id": "b2ffe21f-a87c-44cd-8c70-7f133820beaa",
   "metadata": {},
   "outputs": [],
   "source": [
    "gf_exp = [0] * 512\n",
    "gf_log = [0] * 256\n",
    "\n",
    "def init_tables(prim=0x11d):\n",
    "    '''Precompute the logarithm and anti-log tables for faster computation later, using the provided primitive polynomial.'''\n",
    "    # prim is the primitive (binary) polynomial. Since it's a polynomial in the binary sense,\n",
    "    # it's only in fact a single galois field value between 0 and 255, and not a list of gf values.\n",
    "    global gf_exp, gf_log\n",
    "    gf_exp = [0] * 512 # anti-log (exponential) table\n",
    "    gf_log = [0] * 256 # log table\n",
    "    # For each possible value in the galois field 2^8, we will pre-compute the logarithm and anti-logarithm (exponential) of this value\n",
    "    x = 1\n",
    "    for i in range(0, 255):\n",
    "        gf_exp[i] = x # compute anti-log for this value and store it in a table\n",
    "        gf_log[x] = i # compute log at the same time\n",
    "        x <<= 1\n",
    "\n",
    "        if (x & (1 << 8)):\n",
    "            x ^= prim\n",
    "    # Optimization: double the size of the anti-log table so that we don't need to mod 255 to\n",
    "    # stay inside the bounds (because we will mainly use this table for the multiplication of two GF numbers, no more).\n",
    "    for i in range(255, 509):\n",
    "        gf_exp[i] = gf_exp[i - 255]\n",
    "    return [gf_log, gf_exp]"
   ]
  },
  {
   "cell_type": "code",
   "execution_count": 3,
   "id": "95948fec-793b-46cc-886c-22453eeb2013",
   "metadata": {},
   "outputs": [
    {
     "name": "stdout",
     "output_type": "stream",
     "text": [
      "234*212 = 2^(log(234) + log(212)) = 2^(041 + 022) = 161\n",
      "251*121 = 2^(log(251) + log(121)) = 2^(234 + 212) = 065\n",
      "142*142 = 2^(log(142) + log(142)) = 2^(254 + 254) = 071\n"
     ]
    }
   ],
   "source": [
    "tab = init_tables()\n",
    "\"\"\"\n",
    "Example 1:\n",
    "_234_ = 2^22 (mod 285), _212_ = 2^41 (mod 285)\n",
    "41 + 22 = 63\n",
    "2^63 = 161\n",
    "\"\"\"\n",
    "print(f\"234*212 = 2^(log(234) + log(212)) = 2^(041 + 022) = {tab[1][tab[0][234]+tab[0][212]]:03}\")\n",
    "\n",
    "\"\"\"\n",
    "Example 2:\n",
    "_251_ = 2^234 (mod 285), _121_ = 2^212 (mod 285)\n",
    "234 + 212 = 446 === 191 (mod 285)\n",
    "2^191 = 65\n",
    "\"\"\"\n",
    "print(f\"251*121 = 2^(log(251) + log(121)) = 2^(234 + 212) = {tab[1][tab[0][251]+tab[0][121]]:03}\")\n",
    "\n",
    "\"\"\"\n",
    "Example 3:\n",
    "_142_ = 2^254 (mod 285)\n",
    "254 + 254 = 508 === 253 (mod 285)\n",
    "2^253 = 71\n",
    "\"\"\"\n",
    "print(f\"142*142 = 2^(log(142) + log(142)) = 2^(254 + 254) = {tab[1][tab[0][142]+tab[0][142]]:03}\")"
   ]
  },
  {
   "cell_type": "code",
   "execution_count": 4,
   "id": "9851cc66-d12f-4604-83ba-e17b02c75e61",
   "metadata": {},
   "outputs": [],
   "source": [
    "def gf_mul(x,y):\n",
    "    if x==0 or y==0:\n",
    "        return 0\n",
    "    return gf_exp[gf_log[x] + gf_log[y]] # should be gf_exp[(gf_log[x]+gf_log[y])%255] if gf_exp wasn't oversized\n",
    "\n",
    "def gf_div(x,y):\n",
    "    if y==0:\n",
    "        print(f\"Slow down that's not allowed. We're in Number Theory not Calculus for God's sake.\")\n",
    "    if x==0:\n",
    "        return 0\n",
    "    return gf_exp[(gf_log[x] + 255 - gf_log[y]) % 255] # Adding 255 is not needed in python, but it is in C."
   ]
  },
  {
   "cell_type": "code",
   "execution_count": 5,
   "id": "ee083f40-e259-473d-a031-bbbddf7daeb0",
   "metadata": {},
   "outputs": [
    {
     "name": "stdout",
     "output_type": "stream",
     "text": [
      "(234 + 167) % 255 = 146\n",
      "(234 + 167 - 255) % 255 = 146\n",
      "(234 + 167 - 255*12) % 255 = 146\n",
      "Python handles the modulo operator like a sane language\n"
     ]
    }
   ],
   "source": [
    "\"\"\"\n",
    "Modulo in python experimentation\n",
    "\"\"\"\n",
    "print(f\"(234 + 167) % 255 = {(234 + 167) % 255:03}\")\n",
    "print(f\"(234 + 167 - 255) % 255 = {(234 + 167) % 255:03}\")\n",
    "print(f\"(234 + 167 - 255*12) % 255 = {(234 + 167) % 255:03}\")\n",
    "print(f\"Python handles the modulo operator like a sane language\")"
   ]
  },
  {
   "cell_type": "code",
   "execution_count": 20,
   "id": "3fa3ab5f-476c-4c3c-8292-bed665a4a0f3",
   "metadata": {},
   "outputs": [
    {
     "name": "stdout",
     "output_type": "stream",
     "text": [
      "da\n",
      "7d\n"
     ]
    }
   ],
   "source": [
    "#print(f\"{gf_mul(0x40, 0x12):x}\")\n",
    "print(f\"{0x34 ^ 0xee:x}\")\n",
    "print(f\"{0x56 ^ 0x2b:x}\")"
   ]
  }
 ],
 "metadata": {
  "kernelspec": {
   "display_name": "Python 3 (ipykernel)",
   "language": "python",
   "name": "python3"
  },
  "language_info": {
   "codemirror_mode": {
    "name": "ipython",
    "version": 3
   },
   "file_extension": ".py",
   "mimetype": "text/x-python",
   "name": "python",
   "nbconvert_exporter": "python",
   "pygments_lexer": "ipython3",
   "version": "3.13.1"
  }
 },
 "nbformat": 4,
 "nbformat_minor": 5
}
