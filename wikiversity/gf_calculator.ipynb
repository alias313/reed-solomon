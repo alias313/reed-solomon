{
 "cells": [
  {
   "cell_type": "code",
   "execution_count": 1,
   "id": "75d239c3-8b4e-4975-82ed-ac45bed15678",
   "metadata": {},
   "outputs": [],
   "source": [
    "\"\"\"\n",
    "Polynomial multiplication\n",
    "\"\"\"\n",
    "def cl_mul(x: int,y: int) -> int:\n",
    "    \"\"\"Bitwise carry-less multiplication on integers, or similarly polynomial multiplication\"\"\"\n",
    "    z: int = 0\n",
    "    i: int = 0\n",
    "    while (y>>i) > 0:\n",
    "        if y & (1<<i):\n",
    "            z ^= x<<i\n",
    "        i += 1\n",
    "    return z"
   ]
  },
  {
   "cell_type": "code",
   "execution_count": 11,
   "id": "835b076a-5eb4-40fa-9c76-df10ac7170db",
   "metadata": {},
   "outputs": [
    {
     "name": "stdout",
     "output_type": "stream",
     "text": [
      "01110\n"
     ]
    }
   ],
   "source": [
    "# Example: (x^2 + x + 1)(0x^2 + 1x + 0) = 0x^4 + 1x^3 + 1x^2 + 1x^1 + 0\n",
    "print(f\"{cl_mul(0b111,0b010):05b}\")"
   ]
  },
  {
   "cell_type": "code",
   "execution_count": 3,
   "id": "924c0b87-a4d8-4855-a924-45e7cb71d16e",
   "metadata": {},
   "outputs": [],
   "source": [
    "\"\"\"\n",
    "Polynomial division\n",
    "\"\"\"\n",
    "def cl_div(dividend: int, divisor: int) -> tuple[int, int]:\n",
    "    \"\"\"\n",
    "    Carry-less long division of two integers.\n",
    "    Returns the [quotient, remainder] of dividend/divisor (using XOR as subtraction).\n",
    "    \"\"\"\n",
    "    dl1: int = dividend.bit_length()\n",
    "    dl2: int = divisor.bit_length()\n",
    "    quotient: int = 0\n",
    "    if dl1 < dl2:\n",
    "        return (quotient, dividend)\n",
    "    # Align the most significant bit of divisor with that of dividend, \n",
    "    # so remainder will be at most 1 bit less than divisor (9-bit divisor, 8-bit or less remainder)\n",
    "    for i in range(dl1 - dl2, -1, -1):\n",
    "        if dividend & (1 << (i + dl2 - 1)):\n",
    "            dividend ^= divisor << i\n",
    "            quotient ^= 1 << i\n",
    "    return (quotient, dividend)"
   ]
  },
  {
   "cell_type": "code",
   "execution_count": 4,
   "id": "b9a28c21-3f46-467b-a893-2da17965a3eb",
   "metadata": {},
   "outputs": [
    {
     "name": "stdout",
     "output_type": "stream",
     "text": [
      "(quotient=11,remainder=10)\n",
      "dividend=divisor x quotient + remainder: dividend=1011=1011\n"
     ]
    }
   ],
   "source": [
    "dividend = 0b1011\n",
    "divisor = 0b111\n",
    "result = cl_div(dividend, divisor)\n",
    "print(f\"(quotient={result[0]:b},remainder={result[1]:b})\")\n",
    "print(f\"dividend=divisor x quotient + remainder: {dividend=:b}={cl_mul(divisor, result[0])^result[1]:b}\")"
   ]
  },
  {
   "cell_type": "code",
   "execution_count": 5,
   "id": "2612d3fb-d20f-4b0a-bf20-72722715f9b3",
   "metadata": {},
   "outputs": [],
   "source": [
    "\"\"\"\n",
    "Galois field multiplication\n",
    "\"\"\"\n",
    "def gf_mult_noLUT(x: int, y: int, prim: int = 0) -> int:\n",
    "    \"\"\"\n",
    "    Multiplication in Galois Fields without using a precomputed look-up table.\n",
    "    It performs carry-less multiplication and then, if prim > 0, reduces modulo the\n",
    "    prime polynomial `prim`.\n",
    "\n",
    "    :param x: First operand (as an integer representing a GF(2) polynomial)\n",
    "    :param y: Second operand\n",
    "    :param prim: Primitive polynomial for modular reduction (default 0 means no reduction)\n",
    "    :return: The product in GF(2^n) (with modular reduction if prim > 0)\n",
    "    \"\"\"\n",
    "\n",
    "    def cl_mult(x: int, y: int) -> int:\n",
    "        \"\"\"Carry-less multiplication of two integers (treating them as GF(2) polynomials).\"\"\"\n",
    "        z: int = 0\n",
    "        i: int = 0\n",
    "        while (y >> i) > 0:\n",
    "            if y & (1 << i):\n",
    "                z ^= x << i\n",
    "            i += 1\n",
    "        return z\n",
    "\n",
    "    def bit_length(n: int) -> int:\n",
    "        \"\"\"\n",
    "        Compute the position of the most significant 1-bit in an integer.\n",
    "        Equivalent to int.bit_length() built-in function.\n",
    "        \"\"\"\n",
    "        bits: int = 0\n",
    "        while n >> bits:\n",
    "            bits += 1\n",
    "        return bits\n",
    "\n",
    "    def cl_div(dividend: int, divisor: int) -> int:\n",
    "        \"\"\"\n",
    "        Carry-less long division of two integers.\n",
    "        Returns the remainder of dividend/divisor (using XOR as subtraction).\n",
    "        Equivalent to polynomial remainder of polynomial division.\n",
    "        \"\"\"\n",
    "        dl1: int = bit_length(dividend)\n",
    "        dl2: int = bit_length(divisor)\n",
    "        if dl1 < dl2:\n",
    "            return dividend\n",
    "        # Align the most significant bit of divisor with that of dividend, \n",
    "        # so remainder will be at most 1 bit less than divisor (9-bit divisor, 8-bit or less remainder)\n",
    "        for i in range(dl1 - dl2, -1, -1):\n",
    "            if dividend & (1 << (i + dl2 - 1)):\n",
    "                dividend ^= divisor << i\n",
    "        return dividend\n",
    "\n",
    "    # Perform carry-less multiplication\n",
    "    result: int = cl_mult(x, y)\n",
    "\n",
    "    # If a primitive polynomial is provided, reduce the product modulo prim\n",
    "    if prim > 0:\n",
    "        result = cl_div(result, prim)\n",
    "\n",
    "    return result"
   ]
  }
 ],
 "metadata": {
  "kernelspec": {
   "display_name": "Python 3 (ipykernel)",
   "language": "python",
   "name": "python3"
  },
  "language_info": {
   "codemirror_mode": {
    "name": "ipython",
    "version": 3
   },
   "file_extension": ".py",
   "mimetype": "text/x-python",
   "name": "python",
   "nbconvert_exporter": "python",
   "pygments_lexer": "ipython3",
   "version": "3.13.1"
  }
 },
 "nbformat": 4,
 "nbformat_minor": 5
}
