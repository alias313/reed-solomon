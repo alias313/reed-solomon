{
 "cells": [
  {
   "cell_type": "code",
   "execution_count": 1,
   "id": "070c6508-49b6-4f4b-bdae-61fff7eb769a",
   "metadata": {},
   "outputs": [],
   "source": [
    "\"\"\"\n",
    "Syndrome calculation\n",
    "\"\"\"\n",
    "from arithmetic_gf import gf_pow\n",
    "from polynomial_gf import gf_poly_eval\n",
    "\n",
    "def rs_calc_syndromes(msg, nsym):\n",
    "    '''Given the received codeword msg and the number of error correcting symbols (nsym), computes the syndromes polynomial.\n",
    "    Mathematically, it's essentially equivalent to a Fourrier Transform (Chien search being the inverse).\n",
    "    '''\n",
    "    # Note the \"[0] +\" : we add a 0 coefficient for the lowest degree (the constant). This effectively shifts the syndrome, and will shift every computations depending on the syndromes (such as the errors locator polynomial, errors evaluator polynomial, etc. but not the errors positions).\n",
    "    # This is not necessary, you can adapt subsequent computations to start from 0 instead of skipping the first iteration (ie, the often seen range(1, n-k+1)),\n",
    "    synd = [0] * nsym\n",
    "    for i in range(0, nsym):\n",
    "        synd[i] = gf_poly_eval(msg, gf_pow(2,i))\n",
    "    return [0] + synd # pad with one 0 for mathematical precision (else we can end up with weird calculations sometimes)\n",
    "\n",
    "def rs_check(msg, nsym):\n",
    "    '''Returns true if the message + ecc has no error or false otherwise (may not always catch a wrong decoding or a wrong message, particularly if there are too many errors -- above the Singleton bound --, but it usually does)'''\n",
    "    return ( max(rs_calc_syndromes(msg, nsym)) == 0 )"
   ]
  },
  {
   "cell_type": "code",
   "execution_count": 2,
   "id": "99e7d607-e79b-4114-8d95-55c67b04829f",
   "metadata": {},
   "outputs": [],
   "source": [
    "def poly_to_str(poly):\n",
    "    # Theinput is a polynomial in descending order\n",
    "    return \"+\".join([f\"{x:x}x^{len(poly)-ind-1}\" for ind, x in enumerate(poly) if x != 0])"
   ]
  },
  {
   "cell_type": "code",
   "execution_count": 11,
   "id": "743628f5-2662-40b4-acd6-8e15cb6e25a6",
   "metadata": {},
   "outputs": [
    {
     "data": {
      "text/plain": [
       "'40x^25+d2x^24+75x^23+47x^22+76x^21+17x^20+32x^19+6x^18+27x^17+26x^16+96x^15+c6x^14+c6x^13+96x^12+70x^11+ecx^10+bcx^9+2ax^8+90x^7+13x^6+6bx^5+afx^4+efx^3+fdx^2+4bx^1+e0x^0'"
      ]
     },
     "execution_count": 11,
     "metadata": {},
     "output_type": "execute_result"
    }
   ],
   "source": [
    "from encoding import rs_encode_msg\n",
    "msg_in = [0x40, 0xd2, 0x75, 0x47, 0x76, 0x17, 0x32, 0x06,\n",
    "            0x27, 0x26, 0x96, 0xc6, 0xc6, 0x96, 0x70, 0xec]\n",
    "\n",
    "msg = rs_encode_msg(msg_in, 10)\n",
    "\n",
    "poly_to_str(msg)"
   ]
  },
  {
   "cell_type": "code",
   "execution_count": 12,
   "id": "8b1c171d-d427-4d84-b61e-2fd5a046a075",
   "metadata": {},
   "outputs": [
    {
     "name": "stdout",
     "output_type": "stream",
     "text": [
      "[0, 0, 0, 0, 0, 0, 0, 0, 0, 0, 0]\n",
      "True\n",
      "[0, 64, 192, 93, 231, 52, 92, 228, 49, 83, 245]\n"
     ]
    },
    {
     "data": {
      "text/plain": [
       "False"
      ]
     },
     "execution_count": 12,
     "metadata": {},
     "output_type": "execute_result"
    }
   ],
   "source": [
    "synd = rs_calc_syndromes(msg, 10)\n",
    "print(synd)\n",
    "print(rs_check(msg,10))\n",
    "\n",
    "msg[0] = 0  # deliberately damage the message\n",
    "synd = rs_calc_syndromes(msg, 10) # when corrupted, the syndromes will be non zero\n",
    "print(synd)\n",
    "rs_check(msg, 10)"
   ]
  },
  {
   "cell_type": "code",
   "execution_count": null,
   "id": "598df0d3-de31-4e9d-9f75-c3427002c877",
   "metadata": {},
   "outputs": [],
   "source": []
  }
 ],
 "metadata": {
  "kernelspec": {
   "display_name": "Python 3 (ipykernel)",
   "language": "python",
   "name": "python3"
  },
  "language_info": {
   "codemirror_mode": {
    "name": "ipython",
    "version": 3
   },
   "file_extension": ".py",
   "mimetype": "text/x-python",
   "name": "python",
   "nbconvert_exporter": "python",
   "pygments_lexer": "ipython3",
   "version": "3.13.1"
  }
 },
 "nbformat": 4,
 "nbformat_minor": 5
}
