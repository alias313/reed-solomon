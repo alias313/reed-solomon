{
 "cells": [
  {
   "cell_type": "code",
   "execution_count": 1,
   "id": "e4c08ce4-6ce6-44cf-930c-9d3f80ab8ecb",
   "metadata": {},
   "outputs": [],
   "source": [
    "from arithmetic_gf import gf_pow\n",
    "from polynomial_gf import gf_poly_mul\n",
    "\n",
    "def rs_generator_poly(nsym):\n",
    "    '''Generate an irreducible generator polynomial (necessary to encode a message into Reed-Solomon)'''\n",
    "    g = [1]\n",
    "    for i in range(0, nsym):\n",
    "        g = gf_poly_mul(g, [1, gf_pow(2, i)])\n",
    "    return g"
   ]
  },
  {
   "cell_type": "code",
   "execution_count": 6,
   "id": "6f80bcff-4c1a-48f6-882c-4f9f0d1c988c",
   "metadata": {},
   "outputs": [
    {
     "data": {
      "text/plain": [
       "[1, 15, 54, 120, 64]"
      ]
     },
     "execution_count": 6,
     "metadata": {},
     "output_type": "execute_result"
    }
   ],
   "source": [
    "rs_generator_poly(4)"
   ]
  }
 ],
 "metadata": {
  "kernelspec": {
   "display_name": "Python 3 (ipykernel)",
   "language": "python",
   "name": "python3"
  },
  "language_info": {
   "codemirror_mode": {
    "name": "ipython",
    "version": 3
   },
   "file_extension": ".py",
   "mimetype": "text/x-python",
   "name": "python",
   "nbconvert_exporter": "python",
   "pygments_lexer": "ipython3",
   "version": "3.13.1"
  }
 },
 "nbformat": 4,
 "nbformat_minor": 5
}
