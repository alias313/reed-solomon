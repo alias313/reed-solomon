{
 "cells": [
  {
   "cell_type": "code",
   "execution_count": 7,
   "id": "e4c08ce4-6ce6-44cf-930c-9d3f80ab8ecb",
   "metadata": {},
   "outputs": [],
   "source": [
    "from arithmetic_gf import gf_pow\n",
    "from polynomial_gf import gf_poly_mul\n",
    "\n",
    "def rs_generator_poly(nsym):\n",
    "    '''Generate an irreducible generator polynomial (necessary to encode a message into Reed-Solomon)'''\n",
    "    g = [1]\n",
    "    for i in range(0, nsym):\n",
    "        g = gf_poly_mul(g, [1, gf_pow(2, i)])\n",
    "    return g"
   ]
  },
  {
   "cell_type": "code",
   "execution_count": 8,
   "id": "6f80bcff-4c1a-48f6-882c-4f9f0d1c988c",
   "metadata": {},
   "outputs": [
    {
     "data": {
      "text/plain": [
       "[1, 15, 54, 120, 64]"
      ]
     },
     "execution_count": 8,
     "metadata": {},
     "output_type": "execute_result"
    }
   ],
   "source": [
    "rs_generator_poly(4)"
   ]
  },
  {
   "cell_type": "code",
   "execution_count": 53,
   "id": "d41b4226-84cb-4b48-aaf9-0ddb26047faf",
   "metadata": {},
   "outputs": [],
   "source": [
    "from arithmetic_gf import gf_mul\n",
    "\n",
    "def gf_poly_div(dividend, divisor):\n",
    "    '''Fast polynomial division by using Extended Synthetic Division and optimized for GF(2^p) computations\n",
    "    (doesn't work with standard polynomials outside of this galois field, see the Wikipedia article for generic algorithm).'''\n",
    "    # CAUTION: this function expects polynomials to follow the opposite convention at decoding:\n",
    "    # the terms must go from the biggest to lowest degree (while most other functions here expect\n",
    "    # a list from lowest to biggest degree). eg: 1 + 2x + 5x^2 = [5, 2, 1], NOT [1, 2, 5]\n",
    "\n",
    "    msg_out = list(dividend) # Copy the dividend\n",
    "    #normalizer = divisor[0] # precomputing for performance\n",
    "    for i in range(0, len(dividend) - (len(divisor)-1)):\n",
    "        #msg_out[i] /= normalizer # for general polynomial division (when polynomials are non-monic), the usual way of using\n",
    "                                  # synthetic division is to divide the divisor g(x) with its leading coefficient, but not needed here.\n",
    "        coef = msg_out[i] # precaching\n",
    "        if coef != 0: # log(0) is undefined, so we need to avoid that case explicitly (and it's also a good optimization).\n",
    "            for j in range(1, len(divisor)): # in synthetic division, we always skip the first coefficient of the divisior,\n",
    "                                              # because it's only used to normalize the dividend coefficient\n",
    "                if divisor[j] != 0: # log(0) is undefined\n",
    "                    msg_out[i + j] ^= gf_mul(divisor[j], coef) # equivalent to the more mathematically correct\n",
    "                                                               # (but xoring directly is faster): msg_out[i + j] += -divisor[j] * coef\n",
    "\n",
    "    # The resulting msg_out contains both the quotient and the remainder, the remainder being the size of the divisor\n",
    "    # (the remainder has necessarily the same degree as the divisor -- not length but degree == length-1 -- since it's\n",
    "    # what we couldn't divide from the dividend), so we compute the index where this separation is, and return the quotient and remainder.\n",
    "    separator = -(len(divisor)-1)\n",
    "    return msg_out[:separator], msg_out[separator:] # return quotient, remainder."
   ]
  },
  {
   "cell_type": "code",
   "execution_count": 54,
   "id": "27220d58-8568-4309-913f-92c75f7c3b7b",
   "metadata": {},
   "outputs": [],
   "source": [
    "def poly_to_str(poly):\n",
    "    # Theinput is a polynomial in descending order\n",
    "    return \"+\".join([f\"{x:x}x^{len(poly)-ind-1}\" for ind, x in enumerate(poly) if x != 0])"
   ]
  },
  {
   "cell_type": "code",
   "execution_count": 58,
   "id": "26e01471-72ed-4b7f-91c2-3e37e3fc6910",
   "metadata": {},
   "outputs": [
    {
     "name": "stdout",
     "output_type": "stream",
     "text": [
      "1x^0\n",
      "1x^1+1x^0\n",
      "1x^2+3x^1+2x^0\n",
      "1x^3+7x^2+ex^1+8x^0\n",
      "1x^4+fx^3+36x^2+78x^1+40x^0\n",
      "1x^5+1fx^4+c6x^3+3fx^2+93x^1+74x^0\n",
      "1x^6+3fx^5+1x^4+dax^3+20x^2+e3x^1+26x^0\n",
      "1x^7+7fx^6+7ax^5+9ax^4+a4x^3+bx^2+44x^1+75x^0\n",
      "1x^8+ffx^7+bx^6+51x^5+36x^4+efx^3+adx^2+c8x^1+18x^0\n",
      "1x^9+e2x^8+cfx^7+9ex^6+f5x^5+ebx^4+a4x^3+e8x^2+c5x^1+25x^0\n",
      "1x^10+d8x^9+c2x^8+9fx^7+6fx^6+c7x^5+5ex^4+5fx^3+71x^2+9dx^1+c1x^0\n",
      "1x^11+acx^10+82x^9+a3x^8+32x^7+7bx^6+dbx^5+a2x^4+f8x^3+90x^2+74x^1+a0x^0\n",
      "1x^12+44x^11+77x^10+43x^9+76x^8+dcx^7+1fx^6+7x^5+54x^4+5cx^3+7fx^2+d5x^1+61x^0\n",
      "1x^13+89x^12+49x^11+e3x^10+11x^9+b1x^8+11x^7+34x^6+dx^5+2ex^4+2bx^3+53x^2+84x^1+78x^0\n",
      "1x^14+ex^13+36x^12+72x^11+46x^10+aex^9+97x^8+2bx^7+9ex^6+c3x^5+7fx^4+a6x^3+d2x^2+eax^1+a3x^0\n"
     ]
    }
   ],
   "source": [
    "\"\"\"\n",
    "Present the first n generator polynomials, all coefficients are in base 16\n",
    "\"\"\"\n",
    "n = 15\n",
    "for i in range(n):\n",
    "    print(f\"{poly_to_str(rs_generator_poly(i))}\")"
   ]
  },
  {
   "cell_type": "code",
   "execution_count": 55,
   "id": "4585a6b3-e2a4-4d07-b043-8820a8905d8d",
   "metadata": {},
   "outputs": [
    {
     "name": "stdout",
     "output_type": "stream",
     "text": [
      "Dividend: 12x^6+34x^5+56x^4, \tDivisor: 1x^4+fx^3+36x^2+78x^1+40x^0\n",
      "Quotient: 12x^2+dax^1+dfx^0,\tRemainder: 37x^3+e6x^2+78x^1+d9x^0\n"
     ]
    }
   ],
   "source": [
    "\"\"\"\n",
    "divide h12x^6 + h34x^5 + h56x^4 (Every coefficient is in base 16)\n",
    "\"\"\"\n",
    "dividend = [0x12, 0x34, 0x56, 0, 0, 0, 0] # message polynomial with every degree d => d+nsym\n",
    "divisor = rs_generator_poly(4)\n",
    "pdiv = gf_poly_div(dividend, divisor)\n",
    "\n",
    "sdividend = poly_to_str(dividend)\n",
    "sdivisor = poly_to_str(divisor)\n",
    "print(f\"Dividend: {sdividend}, \\tDivisor: {sdivisor}\")\n",
    "\n",
    "quotient = poly_to_str(pdiv[0])\n",
    "remainder = poly_to_str(pdiv[1])\n",
    "print(f\"Quotient: {quotient},\\tRemainder: {remainder}\")"
   ]
  }
 ],
 "metadata": {
  "kernelspec": {
   "display_name": "Python 3 (ipykernel)",
   "language": "python",
   "name": "python3"
  },
  "language_info": {
   "codemirror_mode": {
    "name": "ipython",
    "version": 3
   },
   "file_extension": ".py",
   "mimetype": "text/x-python",
   "name": "python",
   "nbconvert_exporter": "python",
   "pygments_lexer": "ipython3",
   "version": "3.13.1"
  }
 },
 "nbformat": 4,
 "nbformat_minor": 5
}
