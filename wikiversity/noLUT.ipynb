{
 "cells": [
  {
   "cell_type": "code",
   "execution_count": 2,
   "id": "c2b4f508-b839-45e7-a370-5d860b15af36",
   "metadata": {},
   "outputs": [],
   "source": [
    "def cl_mult(x,y):\n",
    "    '''Bitwise carry-less multiplication on integers'''\n",
    "    z = 0\n",
    "    i = 0\n",
    "    while (y>>i) > 0:\n",
    "        if y & (1<<i):\n",
    "            z ^= x<<i\n",
    "        i += 1\n",
    "    return z"
   ]
  },
  {
   "cell_type": "code",
   "execution_count": 24,
   "id": "cab648ea-7c09-4a31-bf2f-9c7452f2a36b",
   "metadata": {},
   "outputs": [
    {
     "name": "stdout",
     "output_type": "stream",
     "text": [
      "3*7=9\n"
     ]
    }
   ],
   "source": [
    "x = 0b011\n",
    "y = 0b111\n",
    "z = cl_mult(x, y)\n",
    "print(f\"{x}*{y}={z}\")"
   ]
  }
 ],
 "metadata": {
  "kernelspec": {
   "display_name": "Python 3 (ipykernel)",
   "language": "python",
   "name": "python3"
  },
  "language_info": {
   "codemirror_mode": {
    "name": "ipython",
    "version": 3
   },
   "file_extension": ".py",
   "mimetype": "text/x-python",
   "name": "python",
   "nbconvert_exporter": "python",
   "pygments_lexer": "ipython3",
   "version": "3.13.1"
  }
 },
 "nbformat": 4,
 "nbformat_minor": 5
}
