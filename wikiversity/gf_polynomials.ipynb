{
 "cells": [
  {
   "cell_type": "code",
   "execution_count": 16,
   "id": "08bc4f43-44bf-4488-b1b0-3419bfd84974",
   "metadata": {},
   "outputs": [],
   "source": [
    "def gf_poly_scale(p,x):\n",
    "    r = [0] * len(p)\n",
    "    for i in range(0, len(p)):\n",
    "        r[i] = gf_mul(p[i], x)\n",
    "    return r"
   ]
  },
  {
   "cell_type": "code",
   "execution_count": 17,
   "id": "babe9d08-1462-40ed-baf2-533070d3359d",
   "metadata": {},
   "outputs": [],
   "source": [
    "def gf_poly_add(p, q):\n",
    "    r = [0] * max(len(p),len(q))\n",
    "    for i in range(0,len(p)):\n",
    "        r[i+len(r)-len(p)] = p[i]\n",
    "    for i in range(0,len(q)):\n",
    "        r[i+len(r)-len(q)] ^= q[i]\n",
    "    return r"
   ]
  },
  {
   "cell_type": "code",
   "execution_count": 25,
   "id": "7e025b45-c808-4a4d-9fe7-5e821112f5c8",
   "metadata": {},
   "outputs": [],
   "source": [
    "gf_exp = [0] * 512\n",
    "gf_log = [0] * 256\n",
    "\n",
    "def init_tables(prim=0x11d):\n",
    "    '''Precompute the logarithm and anti-log tables for faster computation later, using the provided primitive polynomial.'''\n",
    "    # prim is the primitive (binary) polynomial. Since it's a polynomial in the binary sense,\n",
    "    # it's only in fact a single galois field value between 0 and 255, and not a list of gf values.\n",
    "    global gf_exp, gf_log\n",
    "    gf_exp = [0] * 512 # anti-log (exponential) table\n",
    "    gf_log = [0] * 256 # log table\n",
    "    # For each possible value in the galois field 2^8, we will pre-compute the logarithm and anti-logarithm (exponential) of this value\n",
    "    x = 1\n",
    "    for i in range(0, 255):\n",
    "        gf_exp[i] = x # compute anti-log for this value and store it in a table\n",
    "        gf_log[x] = i # compute log at the same time\n",
    "        x <<= 1\n",
    "\n",
    "        if (x & (1 << 8)):\n",
    "            x ^= prim\n",
    "    # Optimization: double the size of the anti-log table so that we don't need to mod 255 to\n",
    "    # stay inside the bounds (because we will mainly use this table for the multiplication of two GF numbers, no more).\n",
    "    for i in range(255, 509):\n",
    "        gf_exp[i] = gf_exp[i - 255]\n",
    "    return [gf_log, gf_exp]\n",
    "\n",
    "init_tables()\n",
    "\n",
    "def gf_mul(x,y):\n",
    "    if x==0 or y==0:\n",
    "        return 0\n",
    "    return gf_exp[gf_log[x] + gf_log[y]] # should be gf_exp[(gf_log[x]+gf_log[y])%255] if gf_exp wasn't oversized\n",
    "\n",
    "def gf_poly_mul(p,q):\n",
    "    '''Multiply two polynomials, inside Galois Field'''\n",
    "    # Pre-allocate the result array\n",
    "    r = [0] * (len(p)+len(q)-1)\n",
    "    # Compute the polynomial multiplication (just like the outer product of two vectors,\n",
    "    # we multiply each coefficients of p with all coefficients of q)\n",
    "    for j in range(0, len(q)):\n",
    "        for i in range(0, len(p)):\n",
    "            r[i+j] ^= gf_mul(p[i], q[j]) # equivalent to: r[i + j] = gf_add(r[i+j], gf_mul(p[i], q[j]))\n",
    "                                                         # -- you can see it's your usual polynomial multiplication\n",
    "    return r"
   ]
  },
  {
   "cell_type": "code",
   "execution_count": 19,
   "id": "30815912-00a4-4be8-a5ff-fd0bfcad4cf6",
   "metadata": {},
   "outputs": [],
   "source": [
    "def gf_poly_eval(poly, x):\n",
    "    '''Evaluates a polynomial in GF(2^p) given the value for x. This is based on Horner's scheme for maximum efficiency.'''\n",
    "    y = poly[0]\n",
    "    for i in range(1, len(poly)):\n",
    "        y = gf_mul(y, x) ^ poly[i]\n",
    "    return y"
   ]
  },
  {
   "cell_type": "code",
   "execution_count": 40,
   "id": "9e6bcdb0-be3b-43a4-822b-b5c43b8ed1d1",
   "metadata": {},
   "outputs": [
    {
     "data": {
      "text/plain": [
       "'1x^4+15x^3+54x^2+120x^1+64x^0'"
      ]
     },
     "execution_count": 40,
     "metadata": {},
     "output_type": "execute_result"
    }
   ],
   "source": [
    "pmult = gf_poly_mul([1,7,14, 8],[1,8])\n",
    "\"+\".join([str(x)+f\"x^{len(pmult)-ind-1}\" for ind, x in enumerate(pmult)])"
   ]
  }
 ],
 "metadata": {
  "kernelspec": {
   "display_name": "Python 3 (ipykernel)",
   "language": "python",
   "name": "python3"
  },
  "language_info": {
   "codemirror_mode": {
    "name": "ipython",
    "version": 3
   },
   "file_extension": ".py",
   "mimetype": "text/x-python",
   "name": "python",
   "nbconvert_exporter": "python",
   "pygments_lexer": "ipython3",
   "version": "3.13.1"
  }
 },
 "nbformat": 4,
 "nbformat_minor": 5
}
